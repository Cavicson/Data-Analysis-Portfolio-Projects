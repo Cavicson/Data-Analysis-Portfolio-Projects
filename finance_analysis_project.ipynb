{
 "cells": [
  {
   "cell_type": "markdown",
   "id": "3967fe64",
   "metadata": {},
   "source": [
    "# 📊 Finance Data Analysis Project\n",
    "This notebook performs EDA, trend analysis, correlation, and visualization on stock price data."
   ]
  },
  {
   "cell_type": "code",
   "execution_count": null,
   "id": "17e55405",
   "metadata": {},
   "outputs": [],
   "source": [
    "import pandas as pd\n",
    "import numpy as np\n",
    "import matplotlib.pyplot as plt\n",
    "import seaborn as sns\n",
    "import plotly.express as px\n",
    "\n",
    "%matplotlib inline"
   ]
  },
  {
   "cell_type": "markdown",
   "id": "ad176c18",
   "metadata": {},
   "source": [
    "## Load and Prepare Data"
   ]
  },
  {
   "cell_type": "code",
   "execution_count": null,
   "id": "92fcedfc",
   "metadata": {},
   "outputs": [],
   "source": [
    "df = pd.read_csv('massive_yahoo_finance_dataset.csv')\n",
    "df['Date'] = pd.to_datetime(df['Date'])\n",
    "df.dropna(subset=['Close', 'Open', 'Volume'], inplace=True)\n",
    "tickers = ['AAPL', 'GOOGL', 'MSFT', 'AMZN', 'TSLA']\n",
    "df = df[df['Ticker'].isin(tickers)]\n",
    "df.head()"
   ]
  },
  {
   "cell_type": "markdown",
   "id": "3f0a0394",
   "metadata": {},
   "source": [
    "## Closing Price Trends"
   ]
  },
  {
   "cell_type": "code",
   "execution_count": null,
   "id": "39cae8f1",
   "metadata": {},
   "outputs": [],
   "source": [
    "plt.figure(figsize=(10, 5))\n",
    "for ticker in tickers:\n",
    "    sub_df = df[df['Ticker'] == ticker]\n",
    "    plt.plot(sub_df['Date'], sub_df['Close'], label=ticker)\n",
    "plt.title(\"Stock Closing Prices Over Time\")\n",
    "plt.xlabel(\"Date\")\n",
    "plt.ylabel(\"Closing Price\")\n",
    "plt.legend()\n",
    "plt.tight_layout()\n",
    "plt.show()"
   ]
  },
  {
   "cell_type": "markdown",
   "id": "7d160be3",
   "metadata": {},
   "source": [
    "## Correlation Heatmap"
   ]
  },
  {
   "cell_type": "code",
   "execution_count": null,
   "id": "39e31d24",
   "metadata": {},
   "outputs": [],
   "source": [
    "returns = df.pivot(index='Date', columns='Ticker', values='Close').pct_change().dropna()\n",
    "plt.figure(figsize=(6, 5))\n",
    "sns.heatmap(returns.corr(), annot=True, cmap=\"coolwarm\", linewidths=0.5)\n",
    "plt.title(\"Correlation Between Stocks\")\n",
    "plt.tight_layout()\n",
    "plt.show()"
   ]
  },
  {
   "cell_type": "markdown",
   "id": "981aba57",
   "metadata": {},
   "source": [
    "## 30-Day Rolling Volatility"
   ]
  },
  {
   "cell_type": "code",
   "execution_count": null,
   "id": "5664c2fc",
   "metadata": {},
   "outputs": [],
   "source": [
    "plt.figure(figsize=(10, 5))\n",
    "for ticker in tickers:\n",
    "    temp = df[df['Ticker'] == ticker].set_index('Date')\n",
    "    temp['Rolling_STD'] = temp['Close'].rolling(30).std()\n",
    "    plt.plot(temp.index, temp['Rolling_STD'], label=ticker)\n",
    "plt.title(\"30-Day Rolling Volatility\")\n",
    "plt.xlabel(\"Date\")\n",
    "plt.ylabel(\"Volatility\")\n",
    "plt.legend()\n",
    "plt.tight_layout()\n",
    "plt.show()"
   ]
  },
  {
   "cell_type": "markdown",
   "id": "5442e8be",
   "metadata": {},
   "source": [
    "## 📊 Interactive Dashboard (Streamlit)\n",
    "This section uses Streamlit to create an interactive dashboard."
   ]
  },
  {
   "cell_type": "code",
   "execution_count": null,
   "id": "bd899bdb",
   "metadata": {},
   "outputs": [],
   "source": [
    "\n",
    "# Install Streamlit if needed (uncomment the line below in a new environment)\n",
    "# !pip install streamlit\n",
    "\n",
    "import streamlit as st\n",
    "import pandas as pd\n",
    "import plotly.express as px\n",
    "\n",
    "# Load dataset\n",
    "df = pd.read_csv(\"massive_yahoo_finance_dataset.csv\")\n",
    "df['Date'] = pd.to_datetime(df['Date'])\n",
    "df = df.dropna(subset=['Close', 'Open', 'Volume'])\n",
    "\n",
    "# Ticker selection\n",
    "tickers = ['AAPL', 'GOOGL', 'MSFT', 'AMZN', 'TSLA']\n",
    "df = df[df['Ticker'].isin(tickers)]\n",
    "\n",
    "st.title(\"📈 Stock Market Dashboard\")\n",
    "selected_ticker = st.sidebar.selectbox(\"Select Stock Ticker\", tickers)\n",
    "filtered_df = df[df['Ticker'] == selected_ticker]\n",
    "\n",
    "# Line chart\n",
    "fig = px.line(filtered_df, x='Date', y='Close', title=f\"{selected_ticker} Closing Prices\")\n",
    "st.plotly_chart(fig)\n",
    "\n",
    "# Volume chart\n",
    "fig_vol = px.area(filtered_df, x='Date', y='Volume', title=f\"{selected_ticker} Trading Volume\")\n",
    "st.plotly_chart(fig_vol)\n"
   ]
  }
 ],
 "metadata": {},
 "nbformat": 4,
 "nbformat_minor": 5
}
